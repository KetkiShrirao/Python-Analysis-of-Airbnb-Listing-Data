{
 "cells": [
  {
   "cell_type": "code",
   "execution_count": 1,
   "id": "63ab8fdf",
   "metadata": {},
   "outputs": [],
   "source": [
    "# Import pandas library as pd and suppress warnings\n",
    "import pandas as pd\n",
    "import warnings\n",
    "warnings.filterwarnings(\"ignore\")"
   ]
  },
  {
   "cell_type": "code",
   "execution_count": 2,
   "id": "f734c7a8",
   "metadata": {},
   "outputs": [],
   "source": [
    "# Read the CSV file \"Listings.csv\" into a DataFrame, specifying the encoding and suppressing low memory warning\n",
    "listings = pd.read_csv(r\"C:\\Users\\KETKI\\Downloads\\Python Analysis on AirBnb\\Listings.csv\", encoding=\"ISO-8859-1\", low_memory=False)"
   ]
  },
  {
   "cell_type": "code",
   "execution_count": 3,
   "id": "cf77bf64",
   "metadata": {},
   "outputs": [
    {
     "data": {
      "text/html": [
       "<div>\n",
       "<style scoped>\n",
       "    .dataframe tbody tr th:only-of-type {\n",
       "        vertical-align: middle;\n",
       "    }\n",
       "\n",
       "    .dataframe tbody tr th {\n",
       "        vertical-align: top;\n",
       "    }\n",
       "\n",
       "    .dataframe thead th {\n",
       "        text-align: right;\n",
       "    }\n",
       "</style>\n",
       "<table border=\"1\" class=\"dataframe\">\n",
       "  <thead>\n",
       "    <tr style=\"text-align: right;\">\n",
       "      <th></th>\n",
       "      <th>listing_id</th>\n",
       "      <th>name</th>\n",
       "      <th>host_id</th>\n",
       "      <th>host_since</th>\n",
       "      <th>host_location</th>\n",
       "      <th>host_response_time</th>\n",
       "      <th>host_response_rate</th>\n",
       "      <th>host_acceptance_rate</th>\n",
       "      <th>host_is_superhost</th>\n",
       "      <th>host_total_listings_count</th>\n",
       "      <th>...</th>\n",
       "      <th>minimum_nights</th>\n",
       "      <th>maximum_nights</th>\n",
       "      <th>review_scores_rating</th>\n",
       "      <th>review_scores_accuracy</th>\n",
       "      <th>review_scores_cleanliness</th>\n",
       "      <th>review_scores_checkin</th>\n",
       "      <th>review_scores_communication</th>\n",
       "      <th>review_scores_location</th>\n",
       "      <th>review_scores_value</th>\n",
       "      <th>instant_bookable</th>\n",
       "    </tr>\n",
       "  </thead>\n",
       "  <tbody>\n",
       "    <tr>\n",
       "      <th>0</th>\n",
       "      <td>281420</td>\n",
       "      <td>Beautiful Flat in le Village Montmartre, Paris</td>\n",
       "      <td>1466919</td>\n",
       "      <td>2011-12-03</td>\n",
       "      <td>Paris, Ile-de-France, France</td>\n",
       "      <td>NaN</td>\n",
       "      <td>NaN</td>\n",
       "      <td>NaN</td>\n",
       "      <td>f</td>\n",
       "      <td>1.0</td>\n",
       "      <td>...</td>\n",
       "      <td>2</td>\n",
       "      <td>1125</td>\n",
       "      <td>100.0</td>\n",
       "      <td>10.0</td>\n",
       "      <td>10.0</td>\n",
       "      <td>10.0</td>\n",
       "      <td>10.0</td>\n",
       "      <td>10.0</td>\n",
       "      <td>10.0</td>\n",
       "      <td>f</td>\n",
       "    </tr>\n",
       "    <tr>\n",
       "      <th>1</th>\n",
       "      <td>3705183</td>\n",
       "      <td>39 mÃÂ² Paris (Sacre CÃ",
       "âur)</td>\n",
       "      <td>10328771</td>\n",
       "      <td>2013-11-29</td>\n",
       "      <td>Paris, Ile-de-France, France</td>\n",
       "      <td>NaN</td>\n",
       "      <td>NaN</td>\n",
       "      <td>NaN</td>\n",
       "      <td>f</td>\n",
       "      <td>1.0</td>\n",
       "      <td>...</td>\n",
       "      <td>2</td>\n",
       "      <td>1125</td>\n",
       "      <td>100.0</td>\n",
       "      <td>10.0</td>\n",
       "      <td>10.0</td>\n",
       "      <td>10.0</td>\n",
       "      <td>10.0</td>\n",
       "      <td>10.0</td>\n",
       "      <td>10.0</td>\n",
       "      <td>f</td>\n",
       "    </tr>\n",
       "    <tr>\n",
       "      <th>2</th>\n",
       "      <td>4082273</td>\n",
       "      <td>Lovely apartment with Terrace, 60m2</td>\n",
       "      <td>19252768</td>\n",
       "      <td>2014-07-31</td>\n",
       "      <td>Paris, Ile-de-France, France</td>\n",
       "      <td>NaN</td>\n",
       "      <td>NaN</td>\n",
       "      <td>NaN</td>\n",
       "      <td>f</td>\n",
       "      <td>1.0</td>\n",
       "      <td>...</td>\n",
       "      <td>2</td>\n",
       "      <td>1125</td>\n",
       "      <td>100.0</td>\n",
       "      <td>10.0</td>\n",
       "      <td>10.0</td>\n",
       "      <td>10.0</td>\n",
       "      <td>10.0</td>\n",
       "      <td>10.0</td>\n",
       "      <td>10.0</td>\n",
       "      <td>f</td>\n",
       "    </tr>\n",
       "    <tr>\n",
       "      <th>3</th>\n",
       "      <td>4797344</td>\n",
       "      <td>Cosy studio (close to Eiffel tower)</td>\n",
       "      <td>10668311</td>\n",
       "      <td>2013-12-17</td>\n",
       "      <td>Paris, Ile-de-France, France</td>\n",
       "      <td>NaN</td>\n",
       "      <td>NaN</td>\n",
       "      <td>NaN</td>\n",
       "      <td>f</td>\n",
       "      <td>1.0</td>\n",
       "      <td>...</td>\n",
       "      <td>2</td>\n",
       "      <td>1125</td>\n",
       "      <td>100.0</td>\n",
       "      <td>10.0</td>\n",
       "      <td>10.0</td>\n",
       "      <td>10.0</td>\n",
       "      <td>10.0</td>\n",
       "      <td>10.0</td>\n",
       "      <td>10.0</td>\n",
       "      <td>f</td>\n",
       "    </tr>\n",
       "    <tr>\n",
       "      <th>4</th>\n",
       "      <td>4823489</td>\n",
       "      <td>Close to Eiffel Tower - Beautiful flat : 2 rooms</td>\n",
       "      <td>24837558</td>\n",
       "      <td>2014-12-14</td>\n",
       "      <td>Paris, Ile-de-France, France</td>\n",
       "      <td>NaN</td>\n",
       "      <td>NaN</td>\n",
       "      <td>NaN</td>\n",
       "      <td>f</td>\n",
       "      <td>1.0</td>\n",
       "      <td>...</td>\n",
       "      <td>2</td>\n",
       "      <td>1125</td>\n",
       "      <td>100.0</td>\n",
       "      <td>10.0</td>\n",
       "      <td>10.0</td>\n",
       "      <td>10.0</td>\n",
       "      <td>10.0</td>\n",
       "      <td>10.0</td>\n",
       "      <td>10.0</td>\n",
       "      <td>f</td>\n",
       "    </tr>\n",
       "  </tbody>\n",
       "</table>\n",
       "<p>5 rows × 33 columns</p>\n",
       "</div>"
      ],
      "text/plain": [
       "   listing_id                                              name   host_id  \\\n",
       "0      281420    Beautiful Flat in le Village Montmartre, Paris   1466919   \n",
       "1     3705183                   39 mÃÂ² Paris (Sacre CÃ\n",
       "âur)  10328771   \n",
       "2     4082273               Lovely apartment with Terrace, 60m2  19252768   \n",
       "3     4797344               Cosy studio (close to Eiffel tower)  10668311   \n",
       "4     4823489  Close to Eiffel Tower - Beautiful flat : 2 rooms  24837558   \n",
       "\n",
       "   host_since                 host_location host_response_time  \\\n",
       "0  2011-12-03  Paris, Ile-de-France, France                NaN   \n",
       "1  2013-11-29  Paris, Ile-de-France, France                NaN   \n",
       "2  2014-07-31  Paris, Ile-de-France, France                NaN   \n",
       "3  2013-12-17  Paris, Ile-de-France, France                NaN   \n",
       "4  2014-12-14  Paris, Ile-de-France, France                NaN   \n",
       "\n",
       "   host_response_rate  host_acceptance_rate host_is_superhost  \\\n",
       "0                 NaN                   NaN                 f   \n",
       "1                 NaN                   NaN                 f   \n",
       "2                 NaN                   NaN                 f   \n",
       "3                 NaN                   NaN                 f   \n",
       "4                 NaN                   NaN                 f   \n",
       "\n",
       "   host_total_listings_count  ... minimum_nights maximum_nights  \\\n",
       "0                        1.0  ...              2           1125   \n",
       "1                        1.0  ...              2           1125   \n",
       "2                        1.0  ...              2           1125   \n",
       "3                        1.0  ...              2           1125   \n",
       "4                        1.0  ...              2           1125   \n",
       "\n",
       "  review_scores_rating review_scores_accuracy review_scores_cleanliness  \\\n",
       "0                100.0                   10.0                      10.0   \n",
       "1                100.0                   10.0                      10.0   \n",
       "2                100.0                   10.0                      10.0   \n",
       "3                100.0                   10.0                      10.0   \n",
       "4                100.0                   10.0                      10.0   \n",
       "\n",
       "   review_scores_checkin  review_scores_communication review_scores_location  \\\n",
       "0                   10.0                         10.0                   10.0   \n",
       "1                   10.0                         10.0                   10.0   \n",
       "2                   10.0                         10.0                   10.0   \n",
       "3                   10.0                         10.0                   10.0   \n",
       "4                   10.0                         10.0                   10.0   \n",
       "\n",
       "  review_scores_value  instant_bookable  \n",
       "0                10.0                 f  \n",
       "1                10.0                 f  \n",
       "2                10.0                 f  \n",
       "3                10.0                 f  \n",
       "4                10.0                 f  \n",
       "\n",
       "[5 rows x 33 columns]"
      ]
     },
     "execution_count": 3,
     "metadata": {},
     "output_type": "execute_result"
    }
   ],
   "source": [
    "# Display the first few rows of the listings DataFrame\n",
    "listings.head()"
   ]
  },
  {
   "cell_type": "code",
   "execution_count": 4,
   "id": "042654a0",
   "metadata": {},
   "outputs": [
    {
     "data": {
      "text/html": [
       "<div>\n",
       "<style scoped>\n",
       "    .dataframe tbody tr th:only-of-type {\n",
       "        vertical-align: middle;\n",
       "    }\n",
       "\n",
       "    .dataframe tbody tr th {\n",
       "        vertical-align: top;\n",
       "    }\n",
       "\n",
       "    .dataframe thead th {\n",
       "        text-align: right;\n",
       "    }\n",
       "</style>\n",
       "<table border=\"1\" class=\"dataframe\">\n",
       "  <thead>\n",
       "    <tr style=\"text-align: right;\">\n",
       "      <th></th>\n",
       "      <th>listing_id</th>\n",
       "      <th>name</th>\n",
       "      <th>host_id</th>\n",
       "      <th>host_since</th>\n",
       "      <th>host_location</th>\n",
       "      <th>host_response_time</th>\n",
       "      <th>host_response_rate</th>\n",
       "      <th>host_acceptance_rate</th>\n",
       "      <th>host_is_superhost</th>\n",
       "      <th>host_total_listings_count</th>\n",
       "      <th>...</th>\n",
       "      <th>minimum_nights</th>\n",
       "      <th>maximum_nights</th>\n",
       "      <th>review_scores_rating</th>\n",
       "      <th>review_scores_accuracy</th>\n",
       "      <th>review_scores_cleanliness</th>\n",
       "      <th>review_scores_checkin</th>\n",
       "      <th>review_scores_communication</th>\n",
       "      <th>review_scores_location</th>\n",
       "      <th>review_scores_value</th>\n",
       "      <th>instant_bookable</th>\n",
       "    </tr>\n",
       "  </thead>\n",
       "  <tbody>\n",
       "    <tr>\n",
       "      <th>279707</th>\n",
       "      <td>38338635</td>\n",
       "      <td>Appartement T2 neuf prÃÂ¨s du tram T3a Porte ...</td>\n",
       "      <td>31161181</td>\n",
       "      <td>2015-04-13</td>\n",
       "      <td>Paris, Ile-de-France, France</td>\n",
       "      <td>NaN</td>\n",
       "      <td>NaN</td>\n",
       "      <td>NaN</td>\n",
       "      <td>f</td>\n",
       "      <td>1.0</td>\n",
       "      <td>...</td>\n",
       "      <td>1</td>\n",
       "      <td>7</td>\n",
       "      <td>100.0</td>\n",
       "      <td>10.0</td>\n",
       "      <td>10.0</td>\n",
       "      <td>10.0</td>\n",
       "      <td>10.0</td>\n",
       "      <td>10.0</td>\n",
       "      <td>10.0</td>\n",
       "      <td>f</td>\n",
       "    </tr>\n",
       "    <tr>\n",
       "      <th>279708</th>\n",
       "      <td>38538692</td>\n",
       "      <td>Cozy Studio in Montmartre</td>\n",
       "      <td>10294858</td>\n",
       "      <td>2013-11-27</td>\n",
       "      <td>Paris, Ile-de-France, France</td>\n",
       "      <td>NaN</td>\n",
       "      <td>NaN</td>\n",
       "      <td>NaN</td>\n",
       "      <td>f</td>\n",
       "      <td>1.0</td>\n",
       "      <td>...</td>\n",
       "      <td>7</td>\n",
       "      <td>15</td>\n",
       "      <td>100.0</td>\n",
       "      <td>10.0</td>\n",
       "      <td>10.0</td>\n",
       "      <td>10.0</td>\n",
       "      <td>10.0</td>\n",
       "      <td>10.0</td>\n",
       "      <td>10.0</td>\n",
       "      <td>f</td>\n",
       "    </tr>\n",
       "    <tr>\n",
       "      <th>279709</th>\n",
       "      <td>38683356</td>\n",
       "      <td>Nice and cosy mini-appartement in Paris</td>\n",
       "      <td>2238502</td>\n",
       "      <td>2012-04-27</td>\n",
       "      <td>Paris, Ile-de-France, France</td>\n",
       "      <td>NaN</td>\n",
       "      <td>NaN</td>\n",
       "      <td>NaN</td>\n",
       "      <td>f</td>\n",
       "      <td>1.0</td>\n",
       "      <td>...</td>\n",
       "      <td>6</td>\n",
       "      <td>30</td>\n",
       "      <td>100.0</td>\n",
       "      <td>10.0</td>\n",
       "      <td>10.0</td>\n",
       "      <td>10.0</td>\n",
       "      <td>10.0</td>\n",
       "      <td>10.0</td>\n",
       "      <td>10.0</td>\n",
       "      <td>f</td>\n",
       "    </tr>\n",
       "    <tr>\n",
       "      <th>279710</th>\n",
       "      <td>39659000</td>\n",
       "      <td>Charming apartment near Rue Saint Maur / Oberk...</td>\n",
       "      <td>38633695</td>\n",
       "      <td>2015-07-16</td>\n",
       "      <td>Paris, Ile-de-France, France</td>\n",
       "      <td>NaN</td>\n",
       "      <td>NaN</td>\n",
       "      <td>NaN</td>\n",
       "      <td>f</td>\n",
       "      <td>1.0</td>\n",
       "      <td>...</td>\n",
       "      <td>3</td>\n",
       "      <td>18</td>\n",
       "      <td>100.0</td>\n",
       "      <td>10.0</td>\n",
       "      <td>10.0</td>\n",
       "      <td>10.0</td>\n",
       "      <td>10.0</td>\n",
       "      <td>10.0</td>\n",
       "      <td>10.0</td>\n",
       "      <td>f</td>\n",
       "    </tr>\n",
       "    <tr>\n",
       "      <th>279711</th>\n",
       "      <td>40219504</td>\n",
       "      <td>Cosy apartment with view on Canal St Martin</td>\n",
       "      <td>6955618</td>\n",
       "      <td>2013-06-17</td>\n",
       "      <td>Paris, Ile-de-France, France</td>\n",
       "      <td>NaN</td>\n",
       "      <td>NaN</td>\n",
       "      <td>NaN</td>\n",
       "      <td>f</td>\n",
       "      <td>1.0</td>\n",
       "      <td>...</td>\n",
       "      <td>2</td>\n",
       "      <td>4</td>\n",
       "      <td>100.0</td>\n",
       "      <td>10.0</td>\n",
       "      <td>10.0</td>\n",
       "      <td>10.0</td>\n",
       "      <td>10.0</td>\n",
       "      <td>10.0</td>\n",
       "      <td>10.0</td>\n",
       "      <td>f</td>\n",
       "    </tr>\n",
       "  </tbody>\n",
       "</table>\n",
       "<p>5 rows × 33 columns</p>\n",
       "</div>"
      ],
      "text/plain": [
       "        listing_id                                               name  \\\n",
       "279707    38338635  Appartement T2 neuf prÃÂ¨s du tram T3a Porte ...   \n",
       "279708    38538692                          Cozy Studio in Montmartre   \n",
       "279709    38683356            Nice and cosy mini-appartement in Paris   \n",
       "279710    39659000  Charming apartment near Rue Saint Maur / Oberk...   \n",
       "279711    40219504        Cosy apartment with view on Canal St Martin   \n",
       "\n",
       "         host_id  host_since                 host_location host_response_time  \\\n",
       "279707  31161181  2015-04-13  Paris, Ile-de-France, France                NaN   \n",
       "279708  10294858  2013-11-27  Paris, Ile-de-France, France                NaN   \n",
       "279709   2238502  2012-04-27  Paris, Ile-de-France, France                NaN   \n",
       "279710  38633695  2015-07-16  Paris, Ile-de-France, France                NaN   \n",
       "279711   6955618  2013-06-17  Paris, Ile-de-France, France                NaN   \n",
       "\n",
       "        host_response_rate  host_acceptance_rate host_is_superhost  \\\n",
       "279707                 NaN                   NaN                 f   \n",
       "279708                 NaN                   NaN                 f   \n",
       "279709                 NaN                   NaN                 f   \n",
       "279710                 NaN                   NaN                 f   \n",
       "279711                 NaN                   NaN                 f   \n",
       "\n",
       "        host_total_listings_count  ... minimum_nights maximum_nights  \\\n",
       "279707                        1.0  ...              1              7   \n",
       "279708                        1.0  ...              7             15   \n",
       "279709                        1.0  ...              6             30   \n",
       "279710                        1.0  ...              3             18   \n",
       "279711                        1.0  ...              2              4   \n",
       "\n",
       "       review_scores_rating review_scores_accuracy review_scores_cleanliness  \\\n",
       "279707                100.0                   10.0                      10.0   \n",
       "279708                100.0                   10.0                      10.0   \n",
       "279709                100.0                   10.0                      10.0   \n",
       "279710                100.0                   10.0                      10.0   \n",
       "279711                100.0                   10.0                      10.0   \n",
       "\n",
       "        review_scores_checkin  review_scores_communication  \\\n",
       "279707                   10.0                         10.0   \n",
       "279708                   10.0                         10.0   \n",
       "279709                   10.0                         10.0   \n",
       "279710                   10.0                         10.0   \n",
       "279711                   10.0                         10.0   \n",
       "\n",
       "       review_scores_location review_scores_value  instant_bookable  \n",
       "279707                   10.0                10.0                 f  \n",
       "279708                   10.0                10.0                 f  \n",
       "279709                   10.0                10.0                 f  \n",
       "279710                   10.0                10.0                 f  \n",
       "279711                   10.0                10.0                 f  \n",
       "\n",
       "[5 rows x 33 columns]"
      ]
     },
     "execution_count": 4,
     "metadata": {},
     "output_type": "execute_result"
    }
   ],
   "source": [
    "# Display the last  few rows of the listings DataFrame\n",
    "listings.tail()"
   ]
  },
  {
   "cell_type": "code",
   "execution_count": 5,
   "id": "d03a2463",
   "metadata": {},
   "outputs": [
    {
     "data": {
      "text/plain": [
       "Index(['listing_id', 'name', 'host_id', 'host_since', 'host_location',\n",
       "       'host_response_time', 'host_response_rate', 'host_acceptance_rate',\n",
       "       'host_is_superhost', 'host_total_listings_count',\n",
       "       'host_has_profile_pic', 'host_identity_verified', 'neighbourhood',\n",
       "       'district', 'city', 'latitude', 'longitude', 'property_type',\n",
       "       'room_type', 'accommodates', 'bedrooms', 'amenities', 'price',\n",
       "       'minimum_nights', 'maximum_nights', 'review_scores_rating',\n",
       "       'review_scores_accuracy', 'review_scores_cleanliness',\n",
       "       'review_scores_checkin', 'review_scores_communication',\n",
       "       'review_scores_location', 'review_scores_value', 'instant_bookable'],\n",
       "      dtype='object')"
      ]
     },
     "execution_count": 5,
     "metadata": {},
     "output_type": "execute_result"
    }
   ],
   "source": [
    "# Display the columns of the listings DataFrame\n",
    "listings.columns"
   ]
  },
  {
   "cell_type": "markdown",
   "id": "b287ecba",
   "metadata": {},
   "source": [
    "**Objective 1:** \n",
    "\n",
    "**Expore and profile the data to correct any quality issues.**"
   ]
  },
  {
   "cell_type": "code",
   "execution_count": 6,
   "id": "3ed87cc3",
   "metadata": {},
   "outputs": [
    {
     "name": "stdout",
     "output_type": "stream",
     "text": [
      "<class 'pandas.core.frame.DataFrame'>\n",
      "RangeIndex: 279712 entries, 0 to 279711\n",
      "Data columns (total 33 columns):\n",
      " #   Column                       Non-Null Count   Dtype  \n",
      "---  ------                       --------------   -----  \n",
      " 0   listing_id                   279712 non-null  int64  \n",
      " 1   name                         279537 non-null  object \n",
      " 2   host_id                      279712 non-null  int64  \n",
      " 3   host_since                   279547 non-null  object \n",
      " 4   host_location                278872 non-null  object \n",
      " 5   host_response_time           150930 non-null  object \n",
      " 6   host_response_rate           150930 non-null  float64\n",
      " 7   host_acceptance_rate         166625 non-null  float64\n",
      " 8   host_is_superhost            279547 non-null  object \n",
      " 9   host_total_listings_count    279547 non-null  float64\n",
      " 10  host_has_profile_pic         279547 non-null  object \n",
      " 11  host_identity_verified       279547 non-null  object \n",
      " 12  neighbourhood                279712 non-null  object \n",
      " 13  district                     37012 non-null   object \n",
      " 14  city                         279712 non-null  object \n",
      " 15  latitude                     279712 non-null  float64\n",
      " 16  longitude                    279712 non-null  float64\n",
      " 17  property_type                279712 non-null  object \n",
      " 18  room_type                    279712 non-null  object \n",
      " 19  accommodates                 279712 non-null  int64  \n",
      " 20  bedrooms                     250277 non-null  float64\n",
      " 21  amenities                    279712 non-null  object \n",
      " 22  price                        279712 non-null  int64  \n",
      " 23  minimum_nights               279712 non-null  int64  \n",
      " 24  maximum_nights               279712 non-null  int64  \n",
      " 25  review_scores_rating         188307 non-null  float64\n",
      " 26  review_scores_accuracy       187999 non-null  float64\n",
      " 27  review_scores_cleanliness    188047 non-null  float64\n",
      " 28  review_scores_checkin        187941 non-null  float64\n",
      " 29  review_scores_communication  188025 non-null  float64\n",
      " 30  review_scores_location       187937 non-null  float64\n",
      " 31  review_scores_value          187927 non-null  float64\n",
      " 32  instant_bookable             279712 non-null  object \n",
      "dtypes: float64(13), int64(6), object(14)\n",
      "memory usage: 70.4+ MB\n"
     ]
    }
   ],
   "source": [
    "# Display information about the listings DataFrame\n",
    "listings.info()"
   ]
  },
  {
   "cell_type": "code",
   "execution_count": 7,
   "id": "e6dc5a20",
   "metadata": {},
   "outputs": [
    {
     "name": "stdout",
     "output_type": "stream",
     "text": [
      "<class 'pandas.core.frame.DataFrame'>\n",
      "RangeIndex: 279712 entries, 0 to 279711\n",
      "Data columns (total 33 columns):\n",
      " #   Column                       Non-Null Count   Dtype         \n",
      "---  ------                       --------------   -----         \n",
      " 0   listing_id                   279712 non-null  int64         \n",
      " 1   name                         279537 non-null  object        \n",
      " 2   host_id                      279712 non-null  int64         \n",
      " 3   host_since                   279547 non-null  datetime64[ns]\n",
      " 4   host_location                278872 non-null  object        \n",
      " 5   host_response_time           150930 non-null  object        \n",
      " 6   host_response_rate           150930 non-null  float64       \n",
      " 7   host_acceptance_rate         166625 non-null  float64       \n",
      " 8   host_is_superhost            279547 non-null  object        \n",
      " 9   host_total_listings_count    279547 non-null  float64       \n",
      " 10  host_has_profile_pic         279547 non-null  object        \n",
      " 11  host_identity_verified       279547 non-null  object        \n",
      " 12  neighbourhood                279712 non-null  object        \n",
      " 13  district                     37012 non-null   object        \n",
      " 14  city                         279712 non-null  object        \n",
      " 15  latitude                     279712 non-null  float64       \n",
      " 16  longitude                    279712 non-null  float64       \n",
      " 17  property_type                279712 non-null  object        \n",
      " 18  room_type                    279712 non-null  object        \n",
      " 19  accommodates                 279712 non-null  int64         \n",
      " 20  bedrooms                     250277 non-null  float64       \n",
      " 21  amenities                    279712 non-null  object        \n",
      " 22  price                        279712 non-null  int64         \n",
      " 23  minimum_nights               279712 non-null  int64         \n",
      " 24  maximum_nights               279712 non-null  int64         \n",
      " 25  review_scores_rating         188307 non-null  float64       \n",
      " 26  review_scores_accuracy       187999 non-null  float64       \n",
      " 27  review_scores_cleanliness    188047 non-null  float64       \n",
      " 28  review_scores_checkin        187941 non-null  float64       \n",
      " 29  review_scores_communication  188025 non-null  float64       \n",
      " 30  review_scores_location       187937 non-null  float64       \n",
      " 31  review_scores_value          187927 non-null  float64       \n",
      " 32  instant_bookable             279712 non-null  object        \n",
      "dtypes: datetime64[ns](1), float64(13), int64(6), object(13)\n",
      "memory usage: 70.4+ MB\n"
     ]
    }
   ],
   "source": [
    "# Convert the \"host_since\" column to datetime format\n",
    "listings[\"host_since\"] = pd.to_datetime(listings[\"host_since\"])\n",
    "\n",
    "# Display information about the listings DataFrame after conversion\n",
    "listings.info()"
   ]
  },
  {
   "cell_type": "code",
   "execution_count": 8,
   "id": "d3c5c9d7",
   "metadata": {},
   "outputs": [
    {
     "name": "stdout",
     "output_type": "stream",
     "text": [
      "['Paris' 'New York' 'Bangkok' 'Rio de Janeiro' 'Sydney' 'Istanbul' 'Rome'\n",
      " 'Hong Kong' 'Mexico City' 'Cape Town']\n"
     ]
    }
   ],
   "source": [
    "# Extract unique cities from the 'city' column\n",
    "cities = listings['city'].unique()\n",
    "\n",
    "# Print the unique cities\n",
    "print(cities)"
   ]
  },
  {
   "cell_type": "code",
   "execution_count": 9,
   "id": "1352d161",
   "metadata": {},
   "outputs": [
    {
     "name": "stdout",
     "output_type": "stream",
     "text": [
      "city\n",
      "Paris             64690\n",
      "New York          37012\n",
      "Sydney            33630\n",
      "Rome              27647\n",
      "Rio de Janeiro    26615\n",
      "Istanbul          24519\n",
      "Mexico City       20065\n",
      "Bangkok           19361\n",
      "Cape Town         19086\n",
      "Hong Kong          7087\n",
      "Name: count, dtype: int64\n"
     ]
    }
   ],
   "source": [
    "# Count the occurrences of each city in the 'city' column\n",
    "city_counts = listings['city'].value_counts()\n",
    "\n",
    "# Print the counts of each city\n",
    "print(city_counts)"
   ]
  },
  {
   "cell_type": "code",
   "execution_count": 10,
   "id": "d51e7c09",
   "metadata": {},
   "outputs": [],
   "source": [
    "# Filter listings for the city of Paris and select specific columns\n",
    "paris_listings = listings.query(\"city == 'Paris'\").loc[:, ['host_since', 'neighbourhood', 'city', 'accommodates', 'price']]"
   ]
  },
  {
   "cell_type": "code",
   "execution_count": 11,
   "id": "6a35e7bd",
   "metadata": {},
   "outputs": [
    {
     "name": "stdout",
     "output_type": "stream",
     "text": [
      "<class 'pandas.core.frame.DataFrame'>\n",
      "Index: 64690 entries, 0 to 279711\n",
      "Data columns (total 5 columns):\n",
      " #   Column         Non-Null Count  Dtype         \n",
      "---  ------         --------------  -----         \n",
      " 0   host_since     64657 non-null  datetime64[ns]\n",
      " 1   neighbourhood  64690 non-null  object        \n",
      " 2   city           64690 non-null  object        \n",
      " 3   accommodates   64690 non-null  int64         \n",
      " 4   price          64690 non-null  int64         \n",
      "dtypes: datetime64[ns](1), int64(2), object(2)\n",
      "memory usage: 3.0+ MB\n"
     ]
    }
   ],
   "source": [
    "# Display information about the filtered DataFrame for Paris listings\n",
    "paris_listings.info()"
   ]
  },
  {
   "cell_type": "code",
   "execution_count": 12,
   "id": "8bd8c3ca",
   "metadata": {},
   "outputs": [
    {
     "data": {
      "text/plain": [
       "host_since       33\n",
       "neighbourhood     0\n",
       "city              0\n",
       "accommodates      0\n",
       "price             0\n",
       "dtype: int64"
      ]
     },
     "execution_count": 12,
     "metadata": {},
     "output_type": "execute_result"
    }
   ],
   "source": [
    "# Check for missing values in the Paris listings DataFrame\n",
    "paris_listings.isna().sum()"
   ]
  },
  {
   "cell_type": "code",
   "execution_count": 13,
   "id": "1880be53",
   "metadata": {},
   "outputs": [
    {
     "data": {
      "text/html": [
       "<div>\n",
       "<style scoped>\n",
       "    .dataframe tbody tr th:only-of-type {\n",
       "        vertical-align: middle;\n",
       "    }\n",
       "\n",
       "    .dataframe tbody tr th {\n",
       "        vertical-align: top;\n",
       "    }\n",
       "\n",
       "    .dataframe thead th {\n",
       "        text-align: right;\n",
       "    }\n",
       "</style>\n",
       "<table border=\"1\" class=\"dataframe\">\n",
       "  <thead>\n",
       "    <tr style=\"text-align: right;\">\n",
       "      <th></th>\n",
       "      <th>host_since</th>\n",
       "      <th>accommodates</th>\n",
       "      <th>price</th>\n",
       "    </tr>\n",
       "  </thead>\n",
       "  <tbody>\n",
       "    <tr>\n",
       "      <th>count</th>\n",
       "      <td>64657</td>\n",
       "      <td>64690.000000</td>\n",
       "      <td>64690.000000</td>\n",
       "    </tr>\n",
       "    <tr>\n",
       "      <th>mean</th>\n",
       "      <td>2015-11-01 11:06:05.528867584</td>\n",
       "      <td>3.037997</td>\n",
       "      <td>113.096445</td>\n",
       "    </tr>\n",
       "    <tr>\n",
       "      <th>min</th>\n",
       "      <td>2008-08-30 00:00:00</td>\n",
       "      <td>0.000000</td>\n",
       "      <td>0.000000</td>\n",
       "    </tr>\n",
       "    <tr>\n",
       "      <th>25%</th>\n",
       "      <td>2014-03-09 00:00:00</td>\n",
       "      <td>2.000000</td>\n",
       "      <td>59.000000</td>\n",
       "    </tr>\n",
       "    <tr>\n",
       "      <th>50%</th>\n",
       "      <td>2015-07-07 00:00:00</td>\n",
       "      <td>2.000000</td>\n",
       "      <td>80.000000</td>\n",
       "    </tr>\n",
       "    <tr>\n",
       "      <th>75%</th>\n",
       "      <td>2017-05-29 00:00:00</td>\n",
       "      <td>4.000000</td>\n",
       "      <td>120.000000</td>\n",
       "    </tr>\n",
       "    <tr>\n",
       "      <th>max</th>\n",
       "      <td>2021-02-07 00:00:00</td>\n",
       "      <td>16.000000</td>\n",
       "      <td>12000.000000</td>\n",
       "    </tr>\n",
       "    <tr>\n",
       "      <th>std</th>\n",
       "      <td>NaN</td>\n",
       "      <td>1.588766</td>\n",
       "      <td>214.433668</td>\n",
       "    </tr>\n",
       "  </tbody>\n",
       "</table>\n",
       "</div>"
      ],
      "text/plain": [
       "                          host_since  accommodates         price\n",
       "count                          64657  64690.000000  64690.000000\n",
       "mean   2015-11-01 11:06:05.528867584      3.037997    113.096445\n",
       "min              2008-08-30 00:00:00      0.000000      0.000000\n",
       "25%              2014-03-09 00:00:00      2.000000     59.000000\n",
       "50%              2015-07-07 00:00:00      2.000000     80.000000\n",
       "75%              2017-05-29 00:00:00      4.000000    120.000000\n",
       "max              2021-02-07 00:00:00     16.000000  12000.000000\n",
       "std                              NaN      1.588766    214.433668"
      ]
     },
     "execution_count": 13,
     "metadata": {},
     "output_type": "execute_result"
    }
   ],
   "source": [
    "# Generate descriptive statistics for the Paris listings DataFrame\n",
    "paris_listings.describe()"
   ]
  },
  {
   "cell_type": "code",
   "execution_count": 14,
   "id": "63777e77",
   "metadata": {},
   "outputs": [
    {
     "data": {
      "text/plain": [
       "host_since       54\n",
       "neighbourhood    54\n",
       "city             54\n",
       "accommodates     54\n",
       "price            54\n",
       "dtype: int64"
      ]
     },
     "execution_count": 14,
     "metadata": {},
     "output_type": "execute_result"
    }
   ],
   "source": [
    "# Count the number of listings in Paris with accommodates equal to 0 and price equal to 0\n",
    "paris_listings.query(\"accommodates == 0 and price == 0\").count()"
   ]
  },
  {
   "cell_type": "code",
   "execution_count": 15,
   "id": "8b35dfd8",
   "metadata": {},
   "outputs": [
    {
     "name": "stdout",
     "output_type": "stream",
     "text": [
      "Percentage of missing values: 0.08347503478126449\n"
     ]
    }
   ],
   "source": [
    "# Calculate the count of rows where both \"accommodates\" and \"price\" are 0\n",
    "missing_values_count = paris_listings.query(\"accommodates == 0 and price == 0\").shape[0]\n",
    "\n",
    "# Calculate the total number of rows in the DataFrame\n",
    "total_rows = paris_listings.shape[0]\n",
    "\n",
    "# Calculate the percentage of missing values\n",
    "percentage_missing_values = (missing_values_count / total_rows) * 100\n",
    "\n",
    "print(\"Percentage of missing values:\", percentage_missing_values)\n"
   ]
  },
  {
   "cell_type": "markdown",
   "id": "74173ed5",
   "metadata": {},
   "source": [
    "**Objective 2:**\n",
    "\n",
    "**1. Create a table named paris_listings_neighbourhood, that groups Paris listings by 'neighbourhood' and calculates the mean price for each neighborhood sorted from lowerst to highest average price.**\n",
    "\n",
    "**2. Then create a table named paris_listings_accomodations. This Table should be filtered down to the most expensive neighbourhood in Paris, grouped by the 'accommodations' column, and contain the mean price for each value of 'accommodates' stored from lowerst to highest average price.**\n",
    "\n",
    "**3. Finally, create a tabel called paris_listings_over_time, which is grouped by the year of the 'host_since' column. Calculate a count of rows, representing total number of new host and the average price for each year.** "
   ]
  },
  {
   "cell_type": "code",
   "execution_count": 16,
   "id": "a00a64c2",
   "metadata": {},
   "outputs": [],
   "source": [
    "# Calculate the mean price of listings in each neighborhood of Paris and sort them in ascending order\n",
    "paris_listings_neighbourhood = paris_listings.groupby(\"neighbourhood\").agg({\"price\": \"mean\"}).sort_values(\"price\")"
   ]
  },
  {
   "cell_type": "code",
   "execution_count": 17,
   "id": "283cc861",
   "metadata": {},
   "outputs": [
    {
     "data": {
      "text/html": [
       "<div>\n",
       "<style scoped>\n",
       "    .dataframe tbody tr th:only-of-type {\n",
       "        vertical-align: middle;\n",
       "    }\n",
       "\n",
       "    .dataframe tbody tr th {\n",
       "        vertical-align: top;\n",
       "    }\n",
       "\n",
       "    .dataframe thead th {\n",
       "        text-align: right;\n",
       "    }\n",
       "</style>\n",
       "<table border=\"1\" class=\"dataframe\">\n",
       "  <thead>\n",
       "    <tr style=\"text-align: right;\">\n",
       "      <th></th>\n",
       "      <th>price</th>\n",
       "    </tr>\n",
       "    <tr>\n",
       "      <th>neighbourhood</th>\n",
       "      <th></th>\n",
       "    </tr>\n",
       "  </thead>\n",
       "  <tbody>\n",
       "    <tr>\n",
       "      <th>Menilmontant</th>\n",
       "      <td>74.942257</td>\n",
       "    </tr>\n",
       "    <tr>\n",
       "      <th>Buttes-Chaumont</th>\n",
       "      <td>82.690182</td>\n",
       "    </tr>\n",
       "    <tr>\n",
       "      <th>Buttes-Montmartre</th>\n",
       "      <td>87.209479</td>\n",
       "    </tr>\n",
       "    <tr>\n",
       "      <th>Reuilly</th>\n",
       "      <td>89.058402</td>\n",
       "    </tr>\n",
       "    <tr>\n",
       "      <th>Popincourt</th>\n",
       "      <td>90.559459</td>\n",
       "    </tr>\n",
       "  </tbody>\n",
       "</table>\n",
       "</div>"
      ],
      "text/plain": [
       "                       price\n",
       "neighbourhood               \n",
       "Menilmontant       74.942257\n",
       "Buttes-Chaumont    82.690182\n",
       "Buttes-Montmartre  87.209479\n",
       "Reuilly            89.058402\n",
       "Popincourt         90.559459"
      ]
     },
     "execution_count": 17,
     "metadata": {},
     "output_type": "execute_result"
    }
   ],
   "source": [
    "# Display the first few rows of the DataFrame showing the mean price of listings in each neighborhood of Paris\n",
    "paris_listings_neighbourhood.head()"
   ]
  },
  {
   "cell_type": "code",
   "execution_count": 18,
   "id": "1ac600e4",
   "metadata": {
    "scrolled": true
   },
   "outputs": [
    {
     "data": {
      "text/html": [
       "<div>\n",
       "<style scoped>\n",
       "    .dataframe tbody tr th:only-of-type {\n",
       "        vertical-align: middle;\n",
       "    }\n",
       "\n",
       "    .dataframe tbody tr th {\n",
       "        vertical-align: top;\n",
       "    }\n",
       "\n",
       "    .dataframe thead th {\n",
       "        text-align: right;\n",
       "    }\n",
       "</style>\n",
       "<table border=\"1\" class=\"dataframe\">\n",
       "  <thead>\n",
       "    <tr style=\"text-align: right;\">\n",
       "      <th></th>\n",
       "      <th>price</th>\n",
       "    </tr>\n",
       "    <tr>\n",
       "      <th>neighbourhood</th>\n",
       "      <th></th>\n",
       "    </tr>\n",
       "  </thead>\n",
       "  <tbody>\n",
       "    <tr>\n",
       "      <th>Luxembourg</th>\n",
       "      <td>155.638639</td>\n",
       "    </tr>\n",
       "    <tr>\n",
       "      <th>Palais-Bourbon</th>\n",
       "      <td>156.856578</td>\n",
       "    </tr>\n",
       "    <tr>\n",
       "      <th>Passy</th>\n",
       "      <td>161.144635</td>\n",
       "    </tr>\n",
       "    <tr>\n",
       "      <th>Louvre</th>\n",
       "      <td>175.379972</td>\n",
       "    </tr>\n",
       "    <tr>\n",
       "      <th>Elysee</th>\n",
       "      <td>210.536765</td>\n",
       "    </tr>\n",
       "  </tbody>\n",
       "</table>\n",
       "</div>"
      ],
      "text/plain": [
       "                     price\n",
       "neighbourhood             \n",
       "Luxembourg      155.638639\n",
       "Palais-Bourbon  156.856578\n",
       "Passy           161.144635\n",
       "Louvre          175.379972\n",
       "Elysee          210.536765"
      ]
     },
     "execution_count": 18,
     "metadata": {},
     "output_type": "execute_result"
    }
   ],
   "source": [
    "# Display the last few rows of the DataFrame showing the mean price of listings in each neighborhood of Paris\n",
    "paris_listings_neighbourhood.tail()"
   ]
  },
  {
   "cell_type": "markdown",
   "id": "60f1abfa",
   "metadata": {},
   "source": [
    "**Key Observations:**\n",
    "\n",
    "1. There's a significant difference in average prices between the most and least expensive neighborhoods, with **Elysee** being almost three times more expensive than **Menilmontant**.\n",
    "\n",
    "2. Several neighborhoods fall within a mid-range price bracket **(€100-150)**, offering options for those seeking a balance between affordability and location."
   ]
  },
  {
   "cell_type": "code",
   "execution_count": 19,
   "id": "63d35d2b",
   "metadata": {},
   "outputs": [],
   "source": [
    "# Calculate the mean price of listings in the \"Elysee\" neighborhood of Paris grouped by the number of accommodates and sorted in ascending order\n",
    "paris_listings_accommodates = (\n",
    "    paris_listings\n",
    "    .query(\"neighbourhood == 'Elysee'\")\n",
    "    .groupby(\"accommodates\")\n",
    "    .agg({\"price\": \"mean\"})\n",
    "    .sort_values(\"price\")\n",
    ")\n"
   ]
  },
  {
   "cell_type": "code",
   "execution_count": 20,
   "id": "f89bff15",
   "metadata": {},
   "outputs": [
    {
     "data": {
      "text/html": [
       "<div>\n",
       "<style scoped>\n",
       "    .dataframe tbody tr th:only-of-type {\n",
       "        vertical-align: middle;\n",
       "    }\n",
       "\n",
       "    .dataframe tbody tr th {\n",
       "        vertical-align: top;\n",
       "    }\n",
       "\n",
       "    .dataframe thead th {\n",
       "        text-align: right;\n",
       "    }\n",
       "</style>\n",
       "<table border=\"1\" class=\"dataframe\">\n",
       "  <thead>\n",
       "    <tr style=\"text-align: right;\">\n",
       "      <th></th>\n",
       "      <th>price</th>\n",
       "    </tr>\n",
       "    <tr>\n",
       "      <th>accommodates</th>\n",
       "      <th></th>\n",
       "    </tr>\n",
       "  </thead>\n",
       "  <tbody>\n",
       "    <tr>\n",
       "      <th>0</th>\n",
       "      <td>0.000000</td>\n",
       "    </tr>\n",
       "    <tr>\n",
       "      <th>1</th>\n",
       "      <td>79.522222</td>\n",
       "    </tr>\n",
       "    <tr>\n",
       "      <th>3</th>\n",
       "      <td>152.828767</td>\n",
       "    </tr>\n",
       "    <tr>\n",
       "      <th>2</th>\n",
       "      <td>155.103352</td>\n",
       "    </tr>\n",
       "    <tr>\n",
       "      <th>4</th>\n",
       "      <td>212.096070</td>\n",
       "    </tr>\n",
       "  </tbody>\n",
       "</table>\n",
       "</div>"
      ],
      "text/plain": [
       "                   price\n",
       "accommodates            \n",
       "0               0.000000\n",
       "1              79.522222\n",
       "3             152.828767\n",
       "2             155.103352\n",
       "4             212.096070"
      ]
     },
     "execution_count": 20,
     "metadata": {},
     "output_type": "execute_result"
    }
   ],
   "source": [
    "# It shows the \"accommodates\" capacity and the corresponding average \"price\" for listings in the Elysee neighborhood.\n",
    "paris_listings_accommodates.head() "
   ]
  },
  {
   "cell_type": "code",
   "execution_count": 21,
   "id": "d718532b",
   "metadata": {},
   "outputs": [
    {
     "data": {
      "text/html": [
       "<div>\n",
       "<style scoped>\n",
       "    .dataframe tbody tr th:only-of-type {\n",
       "        vertical-align: middle;\n",
       "    }\n",
       "\n",
       "    .dataframe tbody tr th {\n",
       "        vertical-align: top;\n",
       "    }\n",
       "\n",
       "    .dataframe thead th {\n",
       "        text-align: right;\n",
       "    }\n",
       "</style>\n",
       "<table border=\"1\" class=\"dataframe\">\n",
       "  <thead>\n",
       "    <tr style=\"text-align: right;\">\n",
       "      <th></th>\n",
       "      <th>price</th>\n",
       "    </tr>\n",
       "    <tr>\n",
       "      <th>accommodates</th>\n",
       "      <th></th>\n",
       "    </tr>\n",
       "  </thead>\n",
       "  <tbody>\n",
       "    <tr>\n",
       "      <th>12</th>\n",
       "      <td>529.625</td>\n",
       "    </tr>\n",
       "    <tr>\n",
       "      <th>16</th>\n",
       "      <td>800.000</td>\n",
       "    </tr>\n",
       "    <tr>\n",
       "      <th>11</th>\n",
       "      <td>805.000</td>\n",
       "    </tr>\n",
       "    <tr>\n",
       "      <th>13</th>\n",
       "      <td>842.500</td>\n",
       "    </tr>\n",
       "    <tr>\n",
       "      <th>14</th>\n",
       "      <td>971.000</td>\n",
       "    </tr>\n",
       "  </tbody>\n",
       "</table>\n",
       "</div>"
      ],
      "text/plain": [
       "                price\n",
       "accommodates         \n",
       "12            529.625\n",
       "16            800.000\n",
       "11            805.000\n",
       "13            842.500\n",
       "14            971.000"
      ]
     },
     "execution_count": 21,
     "metadata": {},
     "output_type": "execute_result"
    }
   ],
   "source": [
    "# It shows higher capacities and their corresponding higher average prices.\n",
    "paris_listings_accommodates.tail()"
   ]
  },
  {
   "cell_type": "markdown",
   "id": "7ca6d91c",
   "metadata": {},
   "source": [
    "**Key Observations:** \n",
    "\n",
    "In the Elysee neighborhood, on average:\n",
    "\n",
    "1. Accommodates 1 have the lowest average price at **€79.52.**\n",
    "\n",
    "2. Prices generally increase with more capacity, with 14 accommodates listings having the highest average price at **€971.**"
   ]
  },
  {
   "cell_type": "code",
   "execution_count": 22,
   "id": "0f9f287e",
   "metadata": {},
   "outputs": [],
   "source": [
    "# Aggregate the number of listings and mean price of listings in Paris over time, resampled annually\n",
    "paris_listings_over_time = (\n",
    "    paris_listings\n",
    "    .set_index(\"host_since\")\n",
    "    .resample(\"y\")\n",
    "    .agg({\n",
    "        \"neighbourhood\": \"count\", \n",
    "        \"price\": \"mean\"\n",
    "    })\n",
    ")\n"
   ]
  },
  {
   "cell_type": "code",
   "execution_count": 23,
   "id": "06789526",
   "metadata": {},
   "outputs": [
    {
     "data": {
      "text/html": [
       "<div>\n",
       "<style scoped>\n",
       "    .dataframe tbody tr th:only-of-type {\n",
       "        vertical-align: middle;\n",
       "    }\n",
       "\n",
       "    .dataframe tbody tr th {\n",
       "        vertical-align: top;\n",
       "    }\n",
       "\n",
       "    .dataframe thead th {\n",
       "        text-align: right;\n",
       "    }\n",
       "</style>\n",
       "<table border=\"1\" class=\"dataframe\">\n",
       "  <thead>\n",
       "    <tr style=\"text-align: right;\">\n",
       "      <th></th>\n",
       "      <th>neighbourhood</th>\n",
       "      <th>price</th>\n",
       "    </tr>\n",
       "    <tr>\n",
       "      <th>host_since</th>\n",
       "      <th></th>\n",
       "      <th></th>\n",
       "    </tr>\n",
       "  </thead>\n",
       "  <tbody>\n",
       "    <tr>\n",
       "      <th>2008-12-31</th>\n",
       "      <td>4</td>\n",
       "      <td>77.750000</td>\n",
       "    </tr>\n",
       "    <tr>\n",
       "      <th>2009-12-31</th>\n",
       "      <td>106</td>\n",
       "      <td>159.641509</td>\n",
       "    </tr>\n",
       "    <tr>\n",
       "      <th>2010-12-31</th>\n",
       "      <td>416</td>\n",
       "      <td>125.031250</td>\n",
       "    </tr>\n",
       "    <tr>\n",
       "      <th>2011-12-31</th>\n",
       "      <td>1339</td>\n",
       "      <td>124.828230</td>\n",
       "    </tr>\n",
       "    <tr>\n",
       "      <th>2012-12-31</th>\n",
       "      <td>4592</td>\n",
       "      <td>111.578615</td>\n",
       "    </tr>\n",
       "  </tbody>\n",
       "</table>\n",
       "</div>"
      ],
      "text/plain": [
       "            neighbourhood       price\n",
       "host_since                           \n",
       "2008-12-31              4   77.750000\n",
       "2009-12-31            106  159.641509\n",
       "2010-12-31            416  125.031250\n",
       "2011-12-31           1339  124.828230\n",
       "2012-12-31           4592  111.578615"
      ]
     },
     "execution_count": 23,
     "metadata": {},
     "output_type": "execute_result"
    }
   ],
   "source": [
    "# Display the first few rows of the DataFrame showing the aggregated number of listings and mean price of listings in Paris over time, resampled annually\n",
    "paris_listings_over_time.head()"
   ]
  },
  {
   "cell_type": "code",
   "execution_count": 24,
   "id": "375ec2dd",
   "metadata": {},
   "outputs": [
    {
     "data": {
      "text/html": [
       "<div>\n",
       "<style scoped>\n",
       "    .dataframe tbody tr th:only-of-type {\n",
       "        vertical-align: middle;\n",
       "    }\n",
       "\n",
       "    .dataframe tbody tr th {\n",
       "        vertical-align: top;\n",
       "    }\n",
       "\n",
       "    .dataframe thead th {\n",
       "        text-align: right;\n",
       "    }\n",
       "</style>\n",
       "<table border=\"1\" class=\"dataframe\">\n",
       "  <thead>\n",
       "    <tr style=\"text-align: right;\">\n",
       "      <th></th>\n",
       "      <th>neighbourhood</th>\n",
       "      <th>price</th>\n",
       "    </tr>\n",
       "    <tr>\n",
       "      <th>host_since</th>\n",
       "      <th></th>\n",
       "      <th></th>\n",
       "    </tr>\n",
       "  </thead>\n",
       "  <tbody>\n",
       "    <tr>\n",
       "      <th>2017-12-31</th>\n",
       "      <td>4585</td>\n",
       "      <td>108.658888</td>\n",
       "    </tr>\n",
       "    <tr>\n",
       "      <th>2018-12-31</th>\n",
       "      <td>4294</td>\n",
       "      <td>138.209362</td>\n",
       "    </tr>\n",
       "    <tr>\n",
       "      <th>2019-12-31</th>\n",
       "      <td>5694</td>\n",
       "      <td>129.757113</td>\n",
       "    </tr>\n",
       "    <tr>\n",
       "      <th>2020-12-31</th>\n",
       "      <td>3412</td>\n",
       "      <td>141.456038</td>\n",
       "    </tr>\n",
       "    <tr>\n",
       "      <th>2021-12-31</th>\n",
       "      <td>133</td>\n",
       "      <td>93.488722</td>\n",
       "    </tr>\n",
       "  </tbody>\n",
       "</table>\n",
       "</div>"
      ],
      "text/plain": [
       "            neighbourhood       price\n",
       "host_since                           \n",
       "2017-12-31           4585  108.658888\n",
       "2018-12-31           4294  138.209362\n",
       "2019-12-31           5694  129.757113\n",
       "2020-12-31           3412  141.456038\n",
       "2021-12-31            133   93.488722"
      ]
     },
     "execution_count": 24,
     "metadata": {},
     "output_type": "execute_result"
    }
   ],
   "source": [
    "# Display the last few rows of the DataFrame showing the aggregated number of listings and mean price of listings in Paris over time, resampled annually\n",
    "paris_listings_over_time.tail()"
   ]
  },
  {
   "cell_type": "markdown",
   "id": "c76d40a6",
   "metadata": {},
   "source": [
    "**Key Observations:**\n",
    "\n",
    "1. **Listings Trend:** The number of Airbnb listings in Paris generally increased over time, with fluctuations in certain years.\n",
    "\n",
    "2. **Price Fluctuations:** Average listing prices in Paris varied over time, showing some decreases and increases across different years.\n",
    "\n",
    "3. **Potential Relationship:** There might be an inverse relationship between the number of listings and average prices, as increases in listings coincide with slight decreases in prices in some periods.\n",
    "\n",
    "4. **Recent Stability:** In recent years (2019-2021), the number of listings stabilized, while average prices exhibited more variability."
   ]
  },
  {
   "cell_type": "markdown",
   "id": "e56cd820",
   "metadata": {},
   "source": [
    "**Objective 3:**\n",
    "\n",
    "**1. Create a horizontal bar chart of the average price ny neighborhood in Paris.**\n",
    "\n",
    "**2. Create a horizontal bar chart of the average price by 'accommodate' in 'Paris' most expensive neighborhood.**\n",
    "\n",
    "**3. Create two line charts: one of the count of new hosts over time, and one for average price.**\n",
    "\n",
    "**4. Create a dual axis line chart that contains both new hosts and average price over time.**"
   ]
  },
  {
   "cell_type": "code",
   "execution_count": 25,
   "id": "2470549d",
   "metadata": {},
   "outputs": [
    {
     "data": {
      "image/png": "[encoded data removed]",
      "text/plain": [
       "<Figure size 640x480 with 1 Axes>"
      ]
     },
     "metadata": {},
     "output_type": "display_data"
    }
   ],
   "source": [
    "# Import seaborn library as sns\n",
    "import seaborn as sns\n",
    "\n",
    "# Create a horizontal bar plot showing the average listing price by Paris neighborhood\n",
    "ax = (paris_listings_neighbourhood\n",
    "        .plot\n",
    "            .barh(\n",
    "                 title=\"Average Listing Price by Paris Neighbourhood\", \n",
    "                 xlabel=\"Price Per Night (Euros)\", \n",
    "                 ylabel=\"Neighbourhood\", \n",
    "                 legend=None \n",
    "            )\n",
    ")\n",
    "\n",
    "# Adding data labels\n",
    "for i, v in enumerate(paris_listings_neighbourhood['price']):\n",
    "    ax.text(v + 1, i, str(round(v, 2)), va='center')\n",
    "\n",
    "# Remove the top and right spines\n",
    "sns.despine()"
   ]
  },
  {
   "cell_type": "code",
   "execution_count": 26,
   "id": "e5da5d84",
   "metadata": {},
   "outputs": [
    {
     "name": "stdout",
     "output_type": "stream",
     "text": [
      "| Neighbourhood       |   Average Price (Euros) |\n",
      "|:--------------------|------------------------:|\n",
      "| Menilmontant        |                 74.9423 |\n",
      "| Buttes-Chaumont     |                 82.6902 |\n",
      "| Buttes-Montmartre   |                 87.2095 |\n",
      "| Reuilly             |                 89.0584 |\n",
      "| Popincourt          |                 90.5595 |\n",
      "| Gobelins            |                 98.1102 |\n",
      "| Observatoire        |                101.867  |\n",
      "| Batignolles-Monceau |                102.613  |\n",
      "| Enclos-St-Laurent   |                102.967  |\n",
      "| Vaugirard           |                106.831  |\n",
      "| Opera               |                119.039  |\n",
      "| Pantheon            |                122.662  |\n",
      "| Temple              |                138.447  |\n",
      "| Hotel-de-Ville      |                144.472  |\n",
      "| Bourse              |                149.497  |\n",
      "| Luxembourg          |                155.639  |\n",
      "| Palais-Bourbon      |                156.857  |\n",
      "| Passy               |                161.145  |\n",
      "| Louvre              |                175.38   |\n",
      "| Elysee              |                210.537  |\n"
     ]
    }
   ],
   "source": [
    "from tabulate import tabulate\n",
    "\n",
    "# Print the data in tabular format\n",
    "data1 = {\n",
    "    \"Neighbourhood\": paris_listings_neighbourhood.index,\n",
    "    \"Average Price (Euros)\": paris_listings_neighbourhood['price']\n",
    "}\n",
    "\n",
    "table1 = tabulate(data1, headers=\"keys\", tablefmt=\"pipe\")\n",
    "print(table1)\n"
   ]
  },
  {
   "cell_type": "code",
   "execution_count": 27,
   "id": "eb2dd2cc",
   "metadata": {},
   "outputs": [
    {
     "data": {
      "image/png": "[encoded data removed]",
      "text/plain": [
       "<Figure size 640x480 with 1 Axes>"
      ]
     },
     "metadata": {},
     "output_type": "display_data"
    }
   ],
   "source": [
    "# Create a horizontal bar plot to visualize the average listing price by accommodation number in Paris.\n",
    "bx = (paris_listings_accommodates\n",
    "        .plot\n",
    "            .barh(\n",
    "                 title = \"Average Listing Price by Accommodation Number\" , \n",
    "                xlabel = \"Price Per Night (Euros)\" , \n",
    "                ylabel = \"Accommodation Capacity\", \n",
    "                legend = None \n",
    "         \n",
    "         )\n",
    ")\n",
    "\n",
    "\n",
    "# Adding data labels\n",
    "for i, v in enumerate(paris_listings_accommodates['price']):\n",
    "    bx.text(v + 1, i, str(round(v, 2)), va = 'center')  \n",
    "    \n",
    "sns.despine( )"
   ]
  },
  {
   "cell_type": "code",
   "execution_count": 28,
   "id": "abbfbc39",
   "metadata": {},
   "outputs": [
    {
     "name": "stdout",
     "output_type": "stream",
     "text": [
      "|   Accommodation Capacity |   Average Price (Euros) |\n",
      "|-------------------------:|------------------------:|\n",
      "|                        0 |                  0      |\n",
      "|                        1 |                 79.5222 |\n",
      "|                        3 |                152.829  |\n",
      "|                        2 |                155.103  |\n",
      "|                        4 |                212.096  |\n",
      "|                        5 |                328.817  |\n",
      "|                        6 |                355.509  |\n",
      "|                        8 |                405.519  |\n",
      "|                        7 |                411.538  |\n",
      "|                        9 |                440.273  |\n",
      "|                       10 |                500.857  |\n",
      "|                       12 |                529.625  |\n",
      "|                       16 |                800      |\n",
      "|                       11 |                805      |\n",
      "|                       13 |                842.5    |\n",
      "|                       14 |                971      |\n"
     ]
    }
   ],
   "source": [
    "# Print the data in tabular format\n",
    "data2 = {\n",
    "    \"Accommodation Capacity\": paris_listings_accommodates.index,\n",
    "    \"Average Price (Euros)\": paris_listings_accommodates['price']\n",
    "}\n",
    "\n",
    "table2 = tabulate(data2, headers=\"keys\", tablefmt=\"pipe\")\n",
    "print(table2)"
   ]
  },
  {
   "cell_type": "code",
   "execution_count": 29,
   "id": "ce66e79c",
   "metadata": {},
   "outputs": [
    {
     "data": {
      "image/png": "[encoded data removed]",
      "text/plain": [
       "<Figure size 640x480 with 1 Axes>"
      ]
     },
     "metadata": {},
     "output_type": "display_data"
    }
   ],
   "source": [
    "# Create a line plot to visualize the number of new Airbnb hosts in Paris over time.\n",
    "cx = paris_listings_over_time[\"neighbourhood\"].plot(\n",
    "    ylabel=\"New Hosts\",\n",
    "    title=\"New AirBnb Hosts in Paris Over Time\"\n",
    ")\n",
    "\n",
    "# Add data labels\n",
    "for x, y in zip(paris_listings_over_time.index, paris_listings_over_time[\"neighbourhood\"]):\n",
    "    label = \"{:.2f}\".format(y)\n",
    "    cx.annotate(label, (x, y), textcoords=\"offset points\", xytext = (0,2), ha='center')  \n",
    "\n",
    "sns.despine()"
   ]
  },
  {
   "cell_type": "code",
   "execution_count": 30,
   "id": "35603d42",
   "metadata": {},
   "outputs": [
    {
     "name": "stdout",
     "output_type": "stream",
     "text": [
      "| Date                |   New Hosts |\n",
      "|:--------------------|------------:|\n",
      "| 2008-12-31 00:00:00 |           4 |\n",
      "| 2009-12-31 00:00:00 |         106 |\n",
      "| 2010-12-31 00:00:00 |         416 |\n",
      "| 2011-12-31 00:00:00 |        1339 |\n",
      "| 2012-12-31 00:00:00 |        4592 |\n",
      "| 2013-12-31 00:00:00 |        8142 |\n",
      "| 2014-12-31 00:00:00 |       10922 |\n",
      "| 2015-12-31 00:00:00 |       12147 |\n",
      "| 2016-12-31 00:00:00 |        8871 |\n",
      "| 2017-12-31 00:00:00 |        4585 |\n",
      "| 2018-12-31 00:00:00 |        4294 |\n",
      "| 2019-12-31 00:00:00 |        5694 |\n",
      "| 2020-12-31 00:00:00 |        3412 |\n",
      "| 2021-12-31 00:00:00 |         133 |\n"
     ]
    }
   ],
   "source": [
    "# Print the data in tabular format\n",
    "data3 = {\n",
    "    \"Date\": paris_listings_over_time.index,\n",
    "    \"New Hosts\": paris_listings_over_time[\"neighbourhood\"]\n",
    "}\n",
    "\n",
    "table3 = tabulate(data3, headers=\"keys\", tablefmt=\"pipe\")\n",
    "print(table3)"
   ]
  },
  {
   "cell_type": "code",
   "execution_count": 31,
   "id": "b68c2f57",
   "metadata": {},
   "outputs": [
    {
     "data": {
      "image/png": "[encoded data removed]",
      "text/plain": [
       "<Figure size 640x480 with 1 Axes>"
      ]
     },
     "metadata": {},
     "output_type": "display_data"
    }
   ],
   "source": [
    "# Create a line plot to visualize the average Airbnb price in Paris over time.\n",
    "\n",
    "dx = paris_listings_over_time[\"price\"].plot(\n",
    "    ylabel = \"Average Price (Euros)\",\n",
    "    title = \"Average AirBnB Price in Paris Over Time\"\n",
    ")\n",
    "\n",
    "# Add data labels\n",
    "for x, y in zip(paris_listings_over_time.index, paris_listings_over_time[\"price\"]):\n",
    "    dx.text(x, y, str(round(y, 1)), ha = 'center', va='center_baseline', fontsize=8)  \n",
    "\n",
    "sns.despine()"
   ]
  },
  {
   "cell_type": "code",
   "execution_count": 32,
   "id": "c045b531",
   "metadata": {},
   "outputs": [
    {
     "name": "stdout",
     "output_type": "stream",
     "text": [
      "| Date                |   Average Price (Euros) |\n",
      "|:--------------------|------------------------:|\n",
      "| 2008-12-31 00:00:00 |                 77.75   |\n",
      "| 2009-12-31 00:00:00 |                159.642  |\n",
      "| 2010-12-31 00:00:00 |                125.031  |\n",
      "| 2011-12-31 00:00:00 |                124.828  |\n",
      "| 2012-12-31 00:00:00 |                111.579  |\n",
      "| 2013-12-31 00:00:00 |                107.096  |\n",
      "| 2014-12-31 00:00:00 |                100.254  |\n",
      "| 2015-12-31 00:00:00 |                103.646  |\n",
      "| 2016-12-31 00:00:00 |                114.16   |\n",
      "| 2017-12-31 00:00:00 |                108.659  |\n",
      "| 2018-12-31 00:00:00 |                138.209  |\n",
      "| 2019-12-31 00:00:00 |                129.757  |\n",
      "| 2020-12-31 00:00:00 |                141.456  |\n",
      "| 2021-12-31 00:00:00 |                 93.4887 |\n"
     ]
    }
   ],
   "source": [
    "# Print the data in tabular format\n",
    "data4 = {\n",
    "    \"Date\": paris_listings_over_time.index,\n",
    "    \"Average Price (Euros)\": paris_listings_over_time[\"price\"]\n",
    "}\n",
    "\n",
    "table4 = tabulate(data4, headers=\"keys\", tablefmt=\"pipe\")\n",
    "print(table4)"
   ]
  },
  {
   "cell_type": "code",
   "execution_count": 33,
   "id": "b5629119",
   "metadata": {},
   "outputs": [
    {
     "data": {
      "text/plain": [
       "Text(0.5, 1.0, '2015 Regulations Lead to Fewer New Hosts, Higher Prices')"
      ]
     },
     "execution_count": 33,
     "metadata": {},
     "output_type": "execute_result"
    },
    {
     "data": {
      "image/png": "[encoded data removed]",
      "text/plain": [
       "<Figure size 640x480 with 2 Axes>"
      ]
     },
     "metadata": {},
     "output_type": "display_data"
    }
   ],
   "source": [
    "import matplotlib.pyplot as plt\n",
    "\n",
    "fig, ax = plt.subplots()\n",
    "\n",
    "ax.plot (\n",
    "            paris_listings_over_time.index,\n",
    "            paris_listings_over_time [\"neighbourhood\"] , \n",
    "            label  = \"New Hosts\",\n",
    "            c = \"pink\"\n",
    ")\n",
    "\n",
    "ax.set_ylabel(\"New Hosts\")\n",
    "\n",
    "ax2 = ax.twinx()\n",
    "\n",
    "ax2.plot (\n",
    "            paris_listings_over_time.index,\n",
    "            paris_listings_over_time [\"price\"] , \n",
    "            label  = \"Average Price\"\n",
    ")\n",
    "\n",
    "ax2 .set_ylim(0)\n",
    "\n",
    "ax2.set_ylabel(\"Average Price\")\n",
    "\n",
    "ax.set_title(\"2015 Regulations Lead to Fewer New Hosts, Higher Prices\")"
   ]
  },
  {
   "cell_type": "code",
   "execution_count": 34,
   "id": "402a2eb3",
   "metadata": {},
   "outputs": [
    {
     "name": "stdout",
     "output_type": "stream",
     "text": [
      "| Date                |   New Hosts |   Average Price |\n",
      "|:--------------------|------------:|----------------:|\n",
      "| 2008-12-31 00:00:00 |           4 |         77.75   |\n",
      "| 2009-12-31 00:00:00 |         106 |        159.642  |\n",
      "| 2010-12-31 00:00:00 |         416 |        125.031  |\n",
      "| 2011-12-31 00:00:00 |        1339 |        124.828  |\n",
      "| 2012-12-31 00:00:00 |        4592 |        111.579  |\n",
      "| 2013-12-31 00:00:00 |        8142 |        107.096  |\n",
      "| 2014-12-31 00:00:00 |       10922 |        100.254  |\n",
      "| 2015-12-31 00:00:00 |       12147 |        103.646  |\n",
      "| 2016-12-31 00:00:00 |        8871 |        114.16   |\n",
      "| 2017-12-31 00:00:00 |        4585 |        108.659  |\n",
      "| 2018-12-31 00:00:00 |        4294 |        138.209  |\n",
      "| 2019-12-31 00:00:00 |        5694 |        129.757  |\n",
      "| 2020-12-31 00:00:00 |        3412 |        141.456  |\n",
      "| 2021-12-31 00:00:00 |         133 |         93.4887 |\n"
     ]
    }
   ],
   "source": [
    "# Print the data in tabular format\n",
    "data5 = {\n",
    "    \"Date\": paris_listings_over_time.index,\n",
    "    \"New Hosts\": paris_listings_over_time[\"neighbourhood\"],\n",
    "    \"Average Price\": paris_listings_over_time[\"price\"]\n",
    "}\n",
    "\n",
    "table5 = tabulate(data5, headers = \"keys\", tablefmt = \"pipe\")\n",
    "print(table5)"
   ]
  },
  {
   "cell_type": "markdown",
   "id": "06bcf220",
   "metadata": {},
   "source": [
    "# Task is to present the summary of factors affecting pricing and whether regulations adpoted in 2015 impacted listings in the Paris Market."
   ]
  },
  {
   "cell_type": "markdown",
   "id": "930a4f72",
   "metadata": {},
   "source": [
    "**Impact of regulations adopted in 2015:**\n",
    "\n",
    "1. The data shows that in 2015, there was a notable increase in the number of new hosts compared to the previous year. This could suggest that the regulations adopted in 2015 might have had an impact on the listings in the Paris market.\n",
    "\n",
    "2. Additionally, the average price slightly increased in 2015 compared to the previous year, contrary to the trend observed in earlier years. This could indicate a potential effect of regulations on pricing, possibly due to changes in supply-demand dynamics or compliance costs for hosts."
   ]
  },
  {
   "cell_type": "code",
   "execution_count": null,
   "id": "9a256848",
   "metadata": {},
   "outputs": [],
   "source": []
  }
 ],
 "metadata": {
  "kernelspec": {
   "display_name": "Python 3 (ipykernel)",
   "language": "python",
   "name": "python3"
  },
  "language_info": {
   "codemirror_mode": {
    "name": "ipython",
    "version": 3
   },
   "file_extension": ".py",
   "mimetype": "text/x-python",
   "name": "python",
   "nbconvert_exporter": "python",
   "pygments_lexer": "ipython3",
   "version": "3.12.4"
  }
 },
 "nbformat": 4,
 "nbformat_minor": 5
}
